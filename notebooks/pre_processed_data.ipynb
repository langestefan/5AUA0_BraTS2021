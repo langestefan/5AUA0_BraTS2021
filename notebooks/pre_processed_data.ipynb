{
 "cells": [
  {
   "cell_type": "code",
   "execution_count": 2,
   "metadata": {},
   "outputs": [],
   "source": [
    "import nibabel as nib\n",
    "import numpy as np\n",
    "import matplotlib.pyplot as plt\n",
    "import os\n",
    "import cv2\n",
    "from ipywidgets import interact"
   ]
  },
  {
   "cell_type": "markdown",
   "metadata": {},
   "source": [
    "nibabel raw file reference"
   ]
  },
  {
   "cell_type": "code",
   "execution_count": 3,
   "metadata": {},
   "outputs": [
    {
     "name": "stdout",
     "output_type": "stream",
     "text": [
      "../data/BRaTS2021/BRaTS2021_raw/BraTS2021_00002/BraTS2021_00002_flair.nii.gz\n",
      "Image resolution: 240x240\n",
      "Number of slices: 155\n"
     ]
    }
   ],
   "source": [
    "# define path\n",
    "base_path = '../data/BRaTS2021/BRaTS2021_raw/' \n",
    "sample_id = '00002'\n",
    "\n",
    "path = base_path  + 'BraTS2021_' + sample_id  + '/BraTS2021_' + sample_id + '_flair.nii.gz'\n",
    "\n",
    "print(path)\n",
    "\n",
    "flair   = nib.load(base_path  + 'BraTS2021_' + sample_id  + '/BraTS2021_' + sample_id + '_flair.nii.gz')\n",
    "seg     = nib.load(base_path  + 'BraTS2021_' + sample_id  + '/BraTS2021_' + sample_id + '_seg.nii.gz')\n",
    "T1      = nib.load(base_path  + 'BraTS2021_' + sample_id  + '/BraTS2021_' + sample_id + '_t1.nii.gz')\n",
    "T1ce    = nib.load(base_path  + 'BraTS2021_' + sample_id  + '/BraTS2021_' + sample_id + '_t1ce.nii.gz')\n",
    "T2      = nib.load(base_path  + 'BraTS2021_' + sample_id  + '/BraTS2021_' + sample_id + '_t2.nii.gz')\n",
    "\n",
    "# print number of slices\n",
    "imgshape = flair.shape\n",
    "print(f\"Image resolution: {imgshape[0]}x{imgshape[1]}\")\n",
    "print(f\"Number of slices: {imgshape[2]}\")"
   ]
  },
  {
   "cell_type": "code",
   "execution_count": 21,
   "metadata": {},
   "outputs": [
    {
     "name": "stdout",
     "output_type": "stream",
     "text": [
      "Image datatype: float64\n",
      "<class 'numpy.ndarray'>\n"
     ]
    }
   ],
   "source": [
    "flair_data = flair.get_fdata()\n",
    "\n",
    "# print image datatype\n",
    "print(f\"Image datatype: {flair_data.dtype}\")\n",
    "print(type(flair_data))"
   ]
  },
  {
   "cell_type": "markdown",
   "metadata": {},
   "source": [
    "Modalities and tumour classes"
   ]
  },
  {
   "cell_type": "code",
   "execution_count": 22,
   "metadata": {},
   "outputs": [],
   "source": [
    "classes_dict = {\n",
    "    0 : 'B/W = healthy',\n",
    "    1 : 'Red = necrotic',\n",
    "    2 : 'Green = edematous',\n",
    "    4 : 'Blue = enhancing'\n",
    "}\n",
    "\n",
    "modalities = [\"flair\", \"t1\", \"t1ce\", \"t2\", \"seg\"]"
   ]
  },
  {
   "cell_type": "code",
   "execution_count": 23,
   "metadata": {},
   "outputs": [],
   "source": [
    "\n",
    "def visualize_3d_labels(layer):\n",
    "    # change colours of segmentation result    \n",
    "    mask = seg.get_fdata()\n",
    "    color_segmentation = np.zeros((240, 240, 3), dtype=int)\n",
    "    gray_segmentation = mask[:, :, layer]\n",
    "    print( np.unique(gray_segmentation).astype(int))\n",
    "\n",
    "    # print segmentation result\n",
    "    print([classes_dict[result] for result in np.unique(gray_segmentation).astype(int)])\n",
    "    # print(f\"Segmentation result: {[classes_dict[result] for result in np.unique(gray_segmentation)]}\")\n",
    "\n",
    "                                                                # Black (healthy tissue) = 0\n",
    "    color_segmentation[gray_segmentation == 1] = [255, 0, 0]    # Red (necrotic tumor core) = 1\n",
    "    color_segmentation[gray_segmentation == 2] = [0, 255,0]     # Green (peritumoral edematous/invaded tissue) = 2\n",
    "    color_segmentation[gray_segmentation == 4] = [0, 0, 255]    # Blue (enhancing tumor) = 4\n",
    " \n",
    "    plt.figure(figsize=(10, 5))\n",
    "    \n",
    "    plt.imshow(flair_data[:, :, layer], cmap='gray');\n",
    "    # overlay mask\n",
    "    plt.imshow(color_segmentation, cmap='gray', alpha=0.6)\n",
    "    plt.axis('off')\n",
    "    plt.tight_layout()\n",
    "    return layer\n",
    "\n",
    "# interact(visualize_3d_labels, layer=(0, flair_data.shape[2] - 1));\n",
    "\n",
    "# in case this does not work, see: https://stackoverflow.com/questions/36351109/ipython-notebook-ipywidgets-does-not-show"
   ]
  },
  {
   "cell_type": "markdown",
   "metadata": {},
   "source": [
    "rgb2gray conversion"
   ]
  },
  {
   "cell_type": "code",
   "execution_count": 24,
   "metadata": {},
   "outputs": [],
   "source": [
    "def rgb2gray(rgb):\n",
    "    return np.dot(rgb[...,:3], [0.2989, 0.5870, 0.1140])"
   ]
  },
  {
   "cell_type": "markdown",
   "metadata": {},
   "source": [
    "Pre-processed data, loaded from nii individual slices"
   ]
  },
  {
   "cell_type": "code",
   "execution_count": 25,
   "metadata": {},
   "outputs": [],
   "source": [
    "# define path (BraTS2021_00610_flair_5)\n",
    "base_path = '../data/BRaTS2021/BRaTS2021_processed_nii/' \n",
    "split = 'test'\n",
    "base_path = os.path.join(base_path, split)\n",
    "\n",
    "def visualize_3d_labels(layer):\n",
    "    # change colours of segmentation result    \n",
    "    # mask = seg.get_fdata()\n",
    "    color_segmentation = np.zeros((240, 240, 3), dtype=int)\n",
    "    # gray_segmentation = mask[:, :, layer]\n",
    "\n",
    "    img_path = f'{base_path}/BraTS2021_{sample_id}_seg_{layer}.nii.gz'\n",
    "    print(img_path)\n",
    "\n",
    "    # read image\n",
    "    img_nii = nib.load(img_path)\n",
    "    gray_segmentation = img_nii.get_fdata()\n",
    "    print( np.unique(gray_segmentation).astype(int))\n",
    "    print(\"gray_segmentation shape: \", np.shape(gray_segmentation))\n",
    "            \n",
    "\n",
    "    # print segmentation result\n",
    "    print([classes_dict[result] for result in np.unique(gray_segmentation).astype(int)])\n",
    "    # print(f\"Segmentation result: {[classes_dict[result] for result in np.unique(gray_segmentation)]}\")\n",
    "\n",
    "                                                                # Black (healthy tissue) = 0\n",
    "    color_segmentation[gray_segmentation == 1] = [255, 0, 0]    # Red (necrotic tumor core) = 1\n",
    "    color_segmentation[gray_segmentation == 2] = [0, 255,0]     # Green (peritumoral edematous/invaded tissue) = 2\n",
    "    color_segmentation[gray_segmentation == 4] = [0, 0, 255]    # Blue (enhancing tumor) = 4\n",
    " \n",
    "    plt.figure(figsize=(10, 5))\n",
    "    \n",
    "    plt.imshow(flair_data[:, :, layer], cmap='gray');\n",
    "    # overlay mask\n",
    "    plt.imshow(color_segmentation, cmap='gray', alpha=0.6)\n",
    "    plt.axis('off')\n",
    "    plt.tight_layout()\n",
    "    return layer\n",
    "\n",
    "# interact(visualize_3d_labels, layer=(0, flair_data.shape[2] - 1));\n"
   ]
  },
  {
   "cell_type": "markdown",
   "metadata": {},
   "source": [
    "Calculate mean and variance for each modality"
   ]
  },
  {
   "cell_type": "code",
   "execution_count": 38,
   "metadata": {},
   "outputs": [
    {
     "name": "stdout",
     "output_type": "stream",
     "text": [
      "Number of files in folder:  96875\n",
      "Number of cases:  104\n",
      "Percentage of healthy: 98.796930 %\n",
      "Percentage of edematous: 0.767 %\n",
      "Percentage of enhancing: 0.266 %\n",
      "Percentage of necrotic: 0.171 %\n"
     ]
    }
   ],
   "source": [
    "# Get the list of all the files in the directory\n",
    "base_path = '../data/BRaTS2021/BRaTS2021_processed_nii/test'\n",
    "\n",
    "# modalities\n",
    "# mri_modalities = [\"flair\", \"T1\", \"T1ce\", \"T2\"]\n",
    "mri_modalities = [\"seg\"]\n",
    "\n",
    "# cases\n",
    "slices_per_case = 155\n",
    "files = sorted(os.listdir(base_path))\n",
    "files_per_case = slices_per_case * (len(modalities) + 1)\n",
    "n_cases = len(files) // files_per_case # 775\n",
    "print(\"Number of files in folder: \", len(files))\n",
    "\n",
    "# get the list of all the cases (example=BraTS2021_00021_flair_0) we only need 'BraTS2021_xxxxx'\n",
    "cases = [files[i][:15] for i in range(0, n_cases*files_per_case, files_per_case)]\n",
    "print(\"Number of cases: \", n_cases)\n",
    "\n",
    "# calculate mean and variance of each modality \n",
    "# filename = BraTS2021_00000_flair_0.nii.gz\n",
    "def calculate_mean_and_variance(filename):\n",
    "    img = nib.load(filename)\n",
    "    img_data = img.get_fdata()\n",
    "    mean = np.mean(img_data)\n",
    "    variance = np.var(img_data)\n",
    "    print(f\"Mean of {modality}: {mean}\")\n",
    "    print(f\"Variance of {modality}: {variance}\")\n",
    "\n",
    "sum_health = 0\n",
    "# sum_non_health = 0\n",
    "sum_enhancing = 0\n",
    "sum_edematous = 0\n",
    "sum_necrotic = 0 \n",
    "\n",
    "for modality in mri_modalities:\n",
    "    for case in cases:\n",
    "        for slice_idx in range(0, 154):\n",
    "            filename = case + '_'  + modality + '_' + str(slice_idx) + '.nii.gz'\n",
    "            # calculate_mean_and_variance(os.path.join(base_path, filename))\n",
    "\n",
    "            # count number of class labels for 0, 1, 2, 4\n",
    "            if modality == \"seg\":\n",
    "                img = nib.load(os.path.join(base_path, filename))\n",
    "                img_data = img.get_fdata()\n",
    "\n",
    "                # measure the number of pixels in each class\n",
    "                sum_health += np.sum(img_data == 0)\n",
    "                sum_enhancing += np.sum(img_data == 4)\n",
    "                sum_edematous += np.sum(img_data == 2)\n",
    "                sum_necrotic += np.sum(img_data == 1)\n",
    "\n",
    "# percentage of each class\n",
    "total = sum_health + sum_edematous + sum_enhancing + sum_necrotic\n",
    "print(f\"Percentage of healthy: {sum_health / total * 100 :2f} %\")\n",
    "print(f\"Percentage of edematous: {sum_edematous / total * 100 :.3f} %\")\n",
    "print(f\"Percentage of enhancing: {sum_enhancing / total * 100 :.3f} %\")\n",
    "print(f\"Percentage of necrotic: {sum_necrotic / total * 100 :.3f} %\")\n"
   ]
  },
  {
   "cell_type": "markdown",
   "metadata": {},
   "source": [
    "Tensor board test"
   ]
  },
  {
   "cell_type": "code",
   "execution_count": 27,
   "metadata": {},
   "outputs": [
    {
     "data": {
      "text/html": [
       "\n",
       "      <iframe id=\"tensorboard-frame-f4112228dc3b5631\" width=\"100%\" height=\"800\" frameborder=\"0\">\n",
       "      </iframe>\n",
       "      <script>\n",
       "        (function() {\n",
       "          const frame = document.getElementById(\"tensorboard-frame-f4112228dc3b5631\");\n",
       "          const url = new URL(\"/\", window.location);\n",
       "          const port = 6006;\n",
       "          if (port) {\n",
       "            url.port = port;\n",
       "          }\n",
       "          frame.src = url;\n",
       "        })();\n",
       "      </script>\n",
       "    "
      ],
      "text/plain": [
       "<IPython.core.display.HTML object>"
      ]
     },
     "metadata": {},
     "output_type": "display_data"
    }
   ],
   "source": [
    "# import tensorboardX\n",
    "%load_ext tensorboard\n",
    "%tensorboard --logdir 'saved/log/BraTS2021_Base_Unet/0530_165145'"
   ]
  }
 ],
 "metadata": {
  "kernelspec": {
   "display_name": "Python 3.8.13",
   "language": "python",
   "name": "python3"
  },
  "language_info": {
   "codemirror_mode": {
    "name": "ipython",
    "version": 3
   },
   "file_extension": ".py",
   "mimetype": "text/x-python",
   "name": "python",
   "nbconvert_exporter": "python",
   "pygments_lexer": "ipython3",
   "version": "3.8.13"
  },
  "orig_nbformat": 4,
  "vscode": {
   "interpreter": {
    "hash": "d682f74c9ad418ca1e971b83eab4888a7eba299d9a86b811e07ae143a3b11ff5"
   }
  }
 },
 "nbformat": 4,
 "nbformat_minor": 2
}
