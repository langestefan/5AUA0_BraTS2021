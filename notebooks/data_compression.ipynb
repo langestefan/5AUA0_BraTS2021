{
 "cells": [
  {
   "cell_type": "markdown",
   "metadata": {},
   "source": [
    "To test several strategies for saving images"
   ]
  },
  {
   "cell_type": "code",
   "execution_count": 1,
   "metadata": {},
   "outputs": [],
   "source": [
    "import numpy as np\n",
    "import nibabel as nib\n",
    "from PIL import Image\n",
    "from PIL.TiffTags import TAGS\n",
    "from PIL import Image, ImageSequence\n"
   ]
  },
  {
   "cell_type": "markdown",
   "metadata": {},
   "source": [
    "Open BRaTS2021 image"
   ]
  },
  {
   "cell_type": "code",
   "execution_count": 3,
   "metadata": {},
   "outputs": [
    {
     "name": "stdout",
     "output_type": "stream",
     "text": [
      "Image resolution: 240x240\n",
      "Number of slices: 155\n"
     ]
    }
   ],
   "source": [
    "# define path\n",
    "base_path = '../data/BRaTS2021/BRaTS2021_raw/' \n",
    "sample_id = '00625'\n",
    "\n",
    "flair   = nib.load(base_path  + 'BraTS2021_' + sample_id  + '/BraTS2021_' + sample_id + '_flair.nii.gz').get_fdata()\n",
    "seg     = nib.load(base_path  + 'BraTS2021_' + sample_id  + '/BraTS2021_' + sample_id + '_seg.nii.gz').get_fdata()\n",
    "T1      = nib.load(base_path  + 'BraTS2021_' + sample_id  + '/BraTS2021_' + sample_id + '_t1.nii.gz').get_fdata()\n",
    "T1ce    = nib.load(base_path  + 'BraTS2021_' + sample_id  + '/BraTS2021_' + sample_id + '_t1ce.nii.gz').get_fdata()\n",
    "T2      = nib.load(base_path  + 'BraTS2021_' + sample_id  + '/BraTS2021_' + sample_id + '_t2.nii.gz').get_fdata()\n",
    "\n",
    "# print number of slices\n",
    "imgshape = flair.shape\n",
    "print(f\"Image resolution: {imgshape[0]}x{imgshape[1]}\")\n",
    "print(f\"Number of slices: {imgshape[2]}\")"
   ]
  },
  {
   "cell_type": "markdown",
   "metadata": {},
   "source": [
    "Save image as a tiff file"
   ]
  },
  {
   "cell_type": "code",
   "execution_count": 4,
   "metadata": {},
   "outputs": [],
   "source": [
    "slice = 100\n",
    "\n",
    "flair_slice = flair[:, :, slice]\n",
    "T1_slice = T1[:, :, slice]\n",
    "T1ce_slice = T1ce[:, :, slice]\n",
    "T2_slice = T2[:, :, slice]\n",
    "\n",
    "seg_slice = seg[:, :, slice]\n",
    "\n",
    "imlist = []\n",
    "\n",
    "imlist.append(Image.fromarray(flair_slice))\n",
    "imlist.append(Image.fromarray(T1_slice))\n",
    "imlist.append(Image.fromarray(T1ce_slice))\n",
    "imlist.append(Image.fromarray(T2_slice))\n",
    "\n",
    "filename = 'test.tif'\n",
    "imlist[0].save(filename, compression=\"tiff_lzw\", save_all=True,\n",
    "               append_images=imlist[1:])"
   ]
  },
  {
   "cell_type": "markdown",
   "metadata": {},
   "source": [
    "Function to read a TIFF file"
   ]
  },
  {
   "cell_type": "markdown",
   "metadata": {},
   "source": [
    "Load the tiff image back after saving it"
   ]
  },
  {
   "cell_type": "code",
   "execution_count": 5,
   "metadata": {},
   "outputs": [
    {
     "name": "stdout",
     "output_type": "stream",
     "text": [
      "Meta data:  {'ImageWidth': (240,), 'ImageLength': (240,), 'BitsPerSample': (32,), 'Compression': (5,), 'PhotometricInterpretation': (1,), 'StripOffsets': (8, 3800, 27653, 44153), 'SampleFormat': (3,), 'RowsPerStrip': (68,), 'StripByteCounts': (3792, 23853, 16500, 300), 'PlanarConfiguration': (1,)}\n",
      "Nr of frames:  4\n",
      "Frame 0\n",
      "<class 'PIL.TiffImagePlugin.TiffImageFile'>\n",
      "Frame 1\n",
      "<class 'PIL.TiffImagePlugin.TiffImageFile'>\n",
      "Frame 2\n",
      "<class 'PIL.TiffImagePlugin.TiffImageFile'>\n",
      "Frame 3\n",
      "<class 'PIL.TiffImagePlugin.TiffImageFile'>\n"
     ]
    }
   ],
   "source": [
    "# first frame\n",
    "img = Image.open(filename)\n",
    "meta_dict = {TAGS[key] : img.tag[key] for key in img.tag_v2}\n",
    "n_frames = img.n_frames\n",
    "\n",
    "print(\"Meta data: \", meta_dict)\n",
    "print(\"Nr of frames: \", n_frames)\n",
    "\n",
    "for i, page in enumerate(ImageSequence.Iterator(img)):\n",
    "    print(f\"Frame {i}\")\n",
    "    print(type(page))"
   ]
  },
  {
   "cell_type": "markdown",
   "metadata": {},
   "source": []
  },
  {
   "cell_type": "code",
   "execution_count": 14,
   "metadata": {},
   "outputs": [
    {
     "name": "stdout",
     "output_type": "stream",
     "text": [
      "0 : string1\n",
      "1 : string2\n",
      "2 : string3\n",
      "<class 'list'>\n",
      "<class 'str'>\n",
      "0 : s\n",
      "1 : t\n",
      "2 : r\n",
      "3 : i\n",
      "4 : n\n",
      "5 : g\n",
      "6 : 1\n"
     ]
    }
   ],
   "source": [
    "strings = ['string1', 'string2', 'string3']\n",
    "\n",
    "for i, string in enumerate(strings):\n",
    "    print(f\"{i} : {string}\")\n",
    "\n",
    "string = strings[0]\n",
    "\n",
    "print(type(strings))\n",
    "print(type(strings[0]))\n",
    "\n",
    "for i, string in enumerate(strings[0]):\n",
    "    print(f\"{i} : {string}\")"
   ]
  }
 ],
 "metadata": {
  "interpreter": {
   "hash": "43e265959ddab114a29e76bcb846a2c913a97471e240d02923d4a2963ee75ea7"
  },
  "kernelspec": {
   "display_name": "Python 3.8.13",
   "language": "python",
   "name": "python3"
  },
  "language_info": {
   "codemirror_mode": {
    "name": "ipython",
    "version": 3
   },
   "file_extension": ".py",
   "mimetype": "text/x-python",
   "name": "python",
   "nbconvert_exporter": "python",
   "pygments_lexer": "ipython3",
   "version": "3.8.13"
  },
  "orig_nbformat": 4
 },
 "nbformat": 4,
 "nbformat_minor": 2
}
